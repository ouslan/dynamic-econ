{
 "cells": [
  {
   "cell_type": "code",
   "execution_count": 1,
   "id": "9eff5d20",
   "metadata": {},
   "outputs": [
    {
     "name": "stdout",
     "output_type": "stream",
     "text": [
      "yeas\n"
     ]
    }
   ],
   "source": [
    "import polars as pl\n",
    "import statsmodels.formula.api as smf\n",
    "import bambi as bmb\n",
    "import arviz as az"
   ]
  },
  {
   "cell_type": "code",
   "execution_count": null,
   "id": "f7e810d4",
   "metadata": {},
   "outputs": [],
   "source": [
    "# Estimate P_t = B0 + B1p_t-1 + b2 s11t + ut\n",
    "# Change the sample period to be form 2-60\n",
    "df = pl.read_csv(\"data/raw/dgp_determandstoch.csv\", ignore_errors=True)\n",
    "df = df.with_columns(p_stock_shift=pl.col(\"P_STOCH\").shift())\n",
    "results = smf.ols(\"P_STOCH ~ p_stock_shift + STEP11\",data=df.to_pandas()).fit()\n",
    "print(results.summary())"
   ]
  },
  {
   "cell_type": "code",
   "execution_count": null,
   "id": "5fe9cc9c",
   "metadata": {},
   "outputs": [],
   "source": [
    "model = bmb.Model(\"P_STOCH ~ p_stock_shift + STEP11\", data=df.to_pandas())\n",
    "results = model.fit()\n",
    "az.plot_trace(results)\n",
    "az.summary(results)"
   ]
  }
 ],
 "metadata": {
  "kernelspec": {
   "display_name": ".venv",
   "language": "python",
   "name": "python3"
  },
  "language_info": {
   "codemirror_mode": {
    "name": "ipython",
    "version": 3
   },
   "file_extension": ".py",
   "mimetype": "text/x-python",
   "name": "python",
   "nbconvert_exporter": "python",
   "pygments_lexer": "ipython3",
   "version": "3.12.12"
  }
 },
 "nbformat": 4,
 "nbformat_minor": 5
}
